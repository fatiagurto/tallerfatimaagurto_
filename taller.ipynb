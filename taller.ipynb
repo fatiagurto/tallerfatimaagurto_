{
 "cells": [
  {
   "cell_type": "code",
   "execution_count": null,
   "metadata": {},
   "outputs": [],
   "source": [
    "!pip import numpy\n",
    "!pip import Pretty Table\n",
    "!pip import pandas"
   ]
  },
  {
   "cell_type": "code",
   "execution_count": null,
   "metadata": {},
   "outputs": [],
   "source": [
    "Requirement already satisfied: numpy in /home/codespace/.local/lib/python3.10/site-packages (1.24.3)\n",
    "Requirement already satisfied: pandas in /home/codespace/.local/lib/python3.10/site-packages (2.0.2)\n",
    "Requirement already satisfied: python-dateutil>=2.8.2 in /home/codespace/.local/lib/python3.10/site-packages (from pandas) (2.8.2)\n",
    "Requirement already satisfied: pytz>=2020.1 in /home/codespace/.local/lib/python3.10/site-packages (from pandas) (2023.3)\n",
    "Requirement already satisfied: tzdata>=2022.1 in /home/codespace/.local/lib/python3.10/site-packages (from pandas) (2023.3)\n",
    "Requirement already satisfied: numpy>=1.21.0 in /home/codespace/.local/lib/python3.10/site-packages (from pandas) (1.24.3)\n",
    "Requirement already satisfied: six>=1.5 in /home/codespace/.local/lib/python3.10/site-packages (from python-dateutil>=2.8.2->pandas) (1.16.0)\n",
    "Collecting Pretty\n",
    "  Downloading pretty-0.1.tar.gz (5.7 kB)\n",
    "  Preparing metadata (setup.py) ... Collecting Table\n",
    "  Downloading table-0.0.4.tar.gz (2.6 kB)\n",
    "  Preparing metadata (setup.py) ... Building wheels for collected packages: Pretty, Table\n",
    "  Building wheel for Pretty (setup.py) ...   Created wheel for Pretty: filename=pretty-0.1-py3-none-any.whl size=6317 sha256=c0ad6496703df70a8515c2efc3772a3da7c5ff20e7cc78bcf3c1557806b0049d\n",
    "  Stored in directory: /home/codespace/.cache/pip/wheels/ab/fe/88/41574b6cae0ce88a5e399ad33ca9bd52ec3a70f696ed42b34f\n",
    "  Building wheel for Table (setup.py) ...   Created wheel for Table: filename=table-0.0.4-py3-none-any.whl size=3798 sha256=e8f2300a2eb7c0f2054eed8504b5927f3c3a96ea073e7f0b8533a0254e4e7387\n",
    "  Stored in directory: /home/codespace/.cache/pip/wheels/17/30/81/25fa0da9bf7b8d38ce14738a2e6b6fe6c6f3556225487db401\n",
    "Successfully built Pretty Table\n",
    "Installing collected packages: Table, Pretty\n",
    "Successfully installed Pretty-0.1 Table-0.0.4\n"
   ]
  },
  {
   "cell_type": "code",
   "execution_count": 3,
   "metadata": {},
   "outputs": [
    {
     "name": "stdout",
     "output_type": "stream",
     "text": [
      "8\n",
      "11\n"
     ]
    }
   ],
   "source": [
    "def sumar (a,b):\n",
    "    return a + b\n",
    "\n",
    "print(sumar(5,3))\n",
    "print(sumar(6,5))"
   ]
  }
 ],
 "metadata": {
  "kernelspec": {
   "display_name": "Python 3 (ipykernel)",
   "language": "python",
   "name": "python3"
  },
  "orig_nbformat": 4
 },
 "nbformat": 4,
 "nbformat_minor": 2
}
